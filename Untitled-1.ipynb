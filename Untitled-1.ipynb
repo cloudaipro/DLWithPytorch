{
 "cells": [
  {
   "cell_type": "code",
   "execution_count": null,
   "metadata": {},
   "outputs": [],
   "source": [
    "import torch\n",
    "points = torch.tensor([[4.0, 1.0], [5.0, 3.0], [2.0, 1.0]])\n",
    "print(points[0])\n",
    "\n",
    "# point = torch.rand(3, 2)\n",
    "# point[0] = torch.tensor([1.0, 2.0])\n",
    "# point[1] = torch.tensor([3, 4])\n",
    "# point[2] = torch.tensor([5, 6])\n",
    "print(points)\n",
    "print(points.shape)\n",
    "pp = points.squeeze(1)\n",
    "print(pp)\n",
    "print(pp.shape)\n",
    "\n",
    "x =torch.tensor([1,2,3,4])\n",
    "print(x.shape)\n",
    "y = torch.unsqueeze(x, 0)\n",
    "print(y)\n",
    "print(y.shape)\n",
    "z = torch.unsqueeze(x, 1)\n",
    "print(z)\n",
    "print(z.shape)\n",
    "\n",
    "print(z[None,:,::,None ,None].shape)"
   ]
  },
  {
   "cell_type": "code",
   "execution_count": 6,
   "metadata": {},
   "outputs": [
    {
     "name": "stdout",
     "output_type": "stream",
     "text": [
      "[0, 2, 4]\n"
     ]
    }
   ],
   "source": [
    "some_list = list(range(6))\n",
    "print(some_list[:6:2])"
   ]
  },
  {
   "cell_type": "code",
   "execution_count": null,
   "metadata": {},
   "outputs": [],
   "source": [
    "import torch\n",
    "import time\n",
    "\n",
    "img_t = torch.randn(3, 5, 5)\n",
    "# print(img_t)\n",
    "batch_t = torch.randn(2, 3, 5, 5)\n",
    "weights = torch.tensor([0.2126, 0.7152, 0.0722])\n",
    "\n",
    "start = time.time()\n",
    "unsqueezed_weight = weights.reshape(3,1,1)\n",
    "# print(unsqueezed_weight.shape)\n",
    "\n",
    "img_weights = img_t * unsqueezed_weight\n",
    "batch_weights = batch_t * unsqueezed_weight\n",
    "\n",
    "img_gray_weighted = img_weights.sum(-3)\n",
    "batch_gray_weighted = batch_weights.sum(-3)\n",
    "end = time.time()\n",
    "print((end - start))\n",
    "\n",
    "start = time.time()\n",
    "img_gray_weighted_fancy = torch.einsum('...chw, c->...hw', img_t, weights)\n",
    "batch_gray_weighted_fancy = torch.einsum('...chw, c->...hw', batch_t, weights)\n",
    "end = time.time()\n",
    "print(end - start)\n",
    "\n",
    "print(torch.eq(img_gray_weighted, img_gray_weighted_fancy))\n",
    "print(torch.eq(batch_gray_weighted, batch_gray_weighted_fancy))\n",
    "\n",
    "# img_gray_naive = img_t.mean(-3)\n",
    "# batch_t_gray_naive = batch_t.mean(-3)\n",
    "# img_gray_naive.shape, batch_t_gray_naive.shape"
   ]
  },
  {
   "cell_type": "code",
   "execution_count": null,
   "metadata": {},
   "outputs": [],
   "source": [
    "a = torch.tensor([\n",
    "    [\n",
    "        [[1., 2.],\n",
    "         [3., 4.]],\n",
    "        [[5., 6.],\n",
    "         [7., 8.]],\n",
    "        [[9., 10.],\n",
    "        [11., 12.]]\n",
    "    ],\n",
    "    [\n",
    "        [[13., 14.],\n",
    "         [15., 16.]],\n",
    "        [[17., 18.],\n",
    "         [19., 20.]],\n",
    "        [[21., 22.],\n",
    "         [23., 24.]]\n",
    "    ]\n",
    "    ])\n",
    "xx = a.sum(1)\n",
    "print(xx.shape)\n",
    "print(a.sum(1))\n",
    "w = torch.tensor([0.1, 0.2, 0.3]).reshape(3, 1, 1)\n",
    "print(a.shape)\n",
    "print(a * w)\n",
    "print(a.shape)\n",
    "print(a.mean(0))\n",
    "print(a.mean(0).shape)\n",
    "b = torch.tensor([[1., 2.],[3., 4.]])\n",
    "print(b.shape)\n",
    "print(b.mean(1))\n"
   ]
  },
  {
   "cell_type": "code",
   "execution_count": null,
   "metadata": {},
   "outputs": [],
   "source": [
    "a = torch.randn(3,2)\n",
    "print(a)\n",
    "print(torch.einsum('ij->ji', a))\n",
    "\n",
    "print(torch.transpose(a, 0, 1))"
   ]
  },
  {
   "cell_type": "code",
   "execution_count": 34,
   "metadata": {},
   "outputs": [
    {
     "name": "stdout",
     "output_type": "stream",
     "text": [
      "tensor([[-1.031221,  0.360247],\n",
      "        [ 2.125876, -0.638654],\n",
      "        [-0.154264, -0.267373]])\n",
      "tensor([[   999.000000,      0.360352],\n",
      "        [     2.125000,     -0.638672],\n",
      "        [    -0.154297,     -0.267334]], device='mps:0', dtype=torch.float16)\n",
      "tensor([[  2468.000000,      0.720703],\n",
      "        [     4.250000,     -1.277344],\n",
      "        [    -0.308594,     -0.534668]], dtype=torch.float16)\n"
     ]
    }
   ],
   "source": [
    "import numpy as np\n",
    "torch.set_printoptions(sci_mode=False, precision=6)\n",
    "a = torch.randn(3, 2)\n",
    "b = a.to(device='mps').type(torch.float16)\n",
    "# print(a.eq(b))\n",
    "id(a.storage()), id(b.storage())\n",
    "b[0][0] = 999\n",
    "# print(a)\n",
    "# print(b)\n",
    "c = b.to('cpu')\n",
    "c[0][0] = 1234\n",
    "print(a)\n",
    "print(b)\n",
    "print(2 * c)"
   ]
  },
  {
   "cell_type": "code",
   "execution_count": 8,
   "metadata": {},
   "outputs": [
    {
     "name": "stdout",
     "output_type": "stream",
     "text": [
      "12\n",
      "tensor([[ 0,  1,  2,  3,  4,  5,  6,  7,  8,  9, 10, 11]])\n"
     ]
    }
   ],
   "source": [
    "import torch\n",
    "import numpy as np\n",
    "\n",
    "a = torch.tensor(range(12))\n",
    "# print(a)\n",
    "a = a.view(3, 2, 2)\n",
    "print(a.numel())\n",
    "b = a.view(-1, a.numel())\n",
    "print(b)\n",
    "# print(a)\n",
    "# n = a.numpy()\n",
    "# print(n)\n",
    "# print(np.array(n))\n",
    "# xxx = np.array(n)[::-1]\n",
    "# print(xxx)"
   ]
  },
  {
   "cell_type": "code",
   "execution_count": 10,
   "metadata": {},
   "outputs": [
    {
     "name": "stdout",
     "output_type": "stream",
     "text": [
      "tensor(1568., grad_fn=<SumBackward0>)\n"
     ]
    }
   ],
   "source": [
    "# import torchvision as torchviz\n",
    "X = torch.ones((28, 28), dtype=torch.float32, requires_grad=True)\n",
    "y = X**2\n",
    "z = X**2\n",
    "\n",
    "result = (y+z).sum()\n",
    "\n",
    "print(result)"
   ]
  },
  {
   "cell_type": "code",
   "execution_count": 18,
   "metadata": {},
   "outputs": [
    {
     "name": "stdout",
     "output_type": "stream",
     "text": [
      "torch.Size([28, 28])\n",
      "torch.Size([28, 28])\n",
      "torch.Size([28, 28])\n",
      "tensor(1568., grad_fn=<SumBackward0>)\n"
     ]
    }
   ],
   "source": [
    "# import torchvision as torchviz\n",
    "X = torch.ones((28, 28), dtype=torch.float32, requires_grad=True)\n",
    "print(X.shape)\n",
    "y = X**2\n",
    "print(y.shape)\n",
    "z = X.detach()**2\n",
    "print(z.shape)\n",
    "result = (y+z).sum()\n",
    "\n",
    "print(result)"
   ]
  }
 ],
 "metadata": {
  "kernelspec": {
   "display_name": "Python 3 (ipykernel)",
   "language": "python",
   "name": "python3"
  },
  "language_info": {
   "codemirror_mode": {
    "name": "ipython",
    "version": 3
   },
   "file_extension": ".py",
   "mimetype": "text/x-python",
   "name": "python",
   "nbconvert_exporter": "python",
   "pygments_lexer": "ipython3",
   "version": "3.8.17"
  },
  "orig_nbformat": 4
 },
 "nbformat": 4,
 "nbformat_minor": 2
}
