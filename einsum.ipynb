{
 "cells": [
  {
   "cell_type": "code",
   "execution_count": 38,
   "metadata": {},
   "outputs": [
    {
     "name": "stdout",
     "output_type": "stream",
     "text": [
      "tensor([0., 1.])\n",
      "tensor([[10., 11., 12.],\n",
      "        [13., 14., 15.]])\n",
      "tensor(42.)\n"
     ]
    }
   ],
   "source": [
    "import torch\n",
    "\n",
    "# a = torch.tensor(range(16)).reshape(4, 4)\n",
    "# b = torch.tensor(range(4))\n",
    "# print(a)\n",
    "# print(b)\n",
    "# c = torch.einsum('ij,j->ij', a, b)\n",
    "# print(c)\n",
    "\n",
    "# aa = torch.ones(16).reshape(4,4)\n",
    "# bb = torch.tensor(range(8)).reshape(4, 2).type('torch.FloatTensor')\n",
    "# print(bb)\n",
    "# print(torch.einsum('ij->ji', bb))\n",
    "# print(torch.einsum('ij', bb))\n",
    "# print(torch.einsum('ij,jk->ik', aa, bb))\n",
    "# print(torch.einsum('ij,jk->k', aa, bb))\n",
    "\n",
    "# a = torch.tensor(range(2)).type('torch.FloatTensor')\n",
    "# b = torch.tensor(range(10, 12)).type('torch.FloatTensor')\n",
    "# print(a, b)\n",
    "# print(torch.einsum('i, i->', a, b))\n",
    "# print(torch.einsum('i, j->i', a, b))\n",
    "# print(torch.einsum('i, j->j', a, b))\n",
    "# print(torch.einsum('i, j->ij', a, b))\n",
    "\n",
    "a = torch.tensor(range(2)).type('torch.FloatTensor')\n",
    "b = torch.tensor(range(10, 16)).reshape(2, 3).type('torch.FloatTensor')\n",
    "print(a)\n",
    "print(b)\n",
    "print(torch.einsum('i, ij->', a, b))"
   ]
  },
  {
   "cell_type": "code",
   "execution_count": null,
   "metadata": {},
   "outputs": [],
   "source": [
    "import torch\n",
    "A = torch.randn(16, 8, 5, 128, 128)\n",
    "B = torch.randn(16, 8, 5, 128, 128)\n",
    "print('A:', A.size())\n",
    "print('B:', B.size())\n",
    "print(A)\n",
    "A = A.unsqueeze(3)\n",
    "print(A)\n",
    "B = B.unsqueeze(2)\n",
    "print('Viewed A:', A.size())\n",
    "print('Viewed B:', B.size())\n",
    "C = torch.einsum('ijklno,ijlmno->ijkmno', A, B)\n",
    "print('C:', C.size())"
   ]
  },
  {
   "cell_type": "code",
   "execution_count": 51,
   "metadata": {},
   "outputs": [
    {
     "name": "stdout",
     "output_type": "stream",
     "text": [
      "tensor([[0., 1., 2.],\n",
      "        [3., 4., 5.]])\n",
      "tensor([[1., 1.],\n",
      "        [1., 1.],\n",
      "        [1., 1.]])\n",
      "tensor([[ 3.,  3.],\n",
      "        [12., 12.]])\n"
     ]
    }
   ],
   "source": [
    "A = torch.tensor(range(6)).reshape(2, 3).type('torch.FloatTensor')\n",
    "B = torch.ones(6).reshape(3,2)\n",
    "print(A)\n",
    "print(B)\n",
    "print(torch.einsum('ij, jk->ik', A, B))\n"
   ]
  },
  {
   "cell_type": "code",
   "execution_count": 56,
   "metadata": {},
   "outputs": [
    {
     "name": "stdout",
     "output_type": "stream",
     "text": [
      "tensor([[0., 1., 2.],\n",
      "        [3., 4., 5.]])\n",
      "tensor([[0., 1., 2.],\n",
      "        [3., 4., 5.]])\n",
      "torch.Size([2, 1, 3])\n",
      "torch.Size([1, 2, 3])\n",
      "tensor([[[ 0.,  1.,  4.],\n",
      "         [ 0.,  4., 10.]],\n",
      "\n",
      "        [[ 0.,  4., 10.],\n",
      "         [ 9., 16., 25.]]])\n",
      "torch.Size([2, 2, 3])\n"
     ]
    }
   ],
   "source": [
    "\"\"\"\n",
    "有两个tensor A和B，size都是[16, 8, 5, 128, 128]，想将两者的第2个维度，即size为5的维度，分别reshape为5x1和1x5的两个向量，然后计算外积，得到一个5x5的kernel。但是，在张量中进行这样的运算，同时保持其他维度不受影响，是比较困难的，而einsum可以完美就觉这种情况。\n",
    "首先，A可以view成一个size为[18, 8, 5, 1, 128, 128]的tensor, 同理，B可以view为size为[16, 8, 1, 5, 128, 128]的tensor，此时，结果为可以表示为\n",
    "\"\"\"\n",
    "\n",
    "A = torch.tensor(range(6)).reshape(2, 3).type('torch.FloatTensor')\n",
    "B = torch.tensor(range(6)).reshape(2, 3).type('torch.FloatTensor')\n",
    "print(A)\n",
    "print(B)\n",
    "A = A.unsqueeze(1)\n",
    "B = B.unsqueeze(0)\n",
    "print(A.shape)\n",
    "print(B.shape)\n",
    "C = torch.einsum('ijk,jnk->ink', A, B)\n",
    "print(C)\n",
    "print(C.shape)"
   ]
  },
  {
   "cell_type": "code",
   "execution_count": 57,
   "metadata": {},
   "outputs": [
    {
     "name": "stdout",
     "output_type": "stream",
     "text": [
      "tensor([[-0.3890, -0.8070],\n",
      "        [ 1.6444,  0.3503]])\n",
      "tensor([[ -3.8899, -16.1405],\n",
      "        [ 16.4437,   7.0051]])\n"
     ]
    }
   ],
   "source": [
    "A = torch.randn(2,2)\n",
    "B = torch.tensor([10, 20])\n",
    "C = A * B\n",
    "print(A)\n",
    "print(C)"
   ]
  }
 ],
 "metadata": {
  "kernelspec": {
   "display_name": "Python 3 (ipykernel)",
   "language": "python",
   "name": "python3"
  },
  "orig_nbformat": 4
 },
 "nbformat": 4,
 "nbformat_minor": 2
}
