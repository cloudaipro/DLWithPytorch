{
 "cells": [
  {
   "cell_type": "code",
   "execution_count": 2,
   "id": "9c18412e-e416-44cb-a0ca-aaa887e27ee6",
   "metadata": {},
   "outputs": [
    {
     "name": "stdout",
     "output_type": "stream",
     "text": [
      "False\n",
      "True\n"
     ]
    },
    {
     "ename": "AttributeError",
     "evalue": "module 'torch.backends.mps' has no attribute 'device_count'",
     "output_type": "error",
     "traceback": [
      "\u001b[0;31m---------------------------------------------------------------------------\u001b[0m",
      "\u001b[0;31mAttributeError\u001b[0m                            Traceback (most recent call last)",
      "Cell \u001b[0;32mIn[2], line 4\u001b[0m\n\u001b[1;32m      2\u001b[0m \u001b[39mprint\u001b[39m(torch\u001b[39m.\u001b[39mcuda\u001b[39m.\u001b[39mis_available())\n\u001b[1;32m      3\u001b[0m \u001b[39mprint\u001b[39m(torch\u001b[39m.\u001b[39mbackends\u001b[39m.\u001b[39mmps\u001b[39m.\u001b[39mis_available())\n\u001b[0;32m----> 4\u001b[0m \u001b[39mprint\u001b[39m(torch\u001b[39m.\u001b[39;49mbackends\u001b[39m.\u001b[39;49mmps\u001b[39m.\u001b[39;49mdevice_count())\n",
      "\u001b[0;31mAttributeError\u001b[0m: module 'torch.backends.mps' has no attribute 'device_count'"
     ]
    }
   ],
   "source": [
    "import torch\n",
    "print(torch.cuda.is_available())\n",
    "print(torch.backends.mps.is_available())\n",
    "# print(torch.backends.mps.device_count())"
   ]
  },
  {
   "cell_type": "code",
   "execution_count": 2,
   "id": "ae70c864-ef85-41b5-b042-f4c13cbdf2c3",
   "metadata": {},
   "outputs": [
    {
     "data": {
      "text/plain": [
       "2.0"
      ]
     },
     "execution_count": 2,
     "metadata": {},
     "output_type": "execute_result"
    }
   ],
   "source": [
    "a = torch.ones(3)\n",
    "a[0]=2.0\n",
    "float(a[0])"
   ]
  },
  {
   "cell_type": "code",
   "execution_count": 1,
   "id": "dddca0ee",
   "metadata": {},
   "outputs": [],
   "source": [
    "import random\n",
    "import numpy as np\n",
    "def set_seed(seed: int = 42) -> None:\n",
    "    random.seed(seed)\n",
    "    np.random.seed(seed)\n",
    "    torch.manual_seed(seed)\n",
    "    torch.cuda.manual_seed(seed)\n",
    "    torch.backends.cudnn.deterministic = True\n",
    "\n"
   ]
  },
  {
   "cell_type": "code",
   "execution_count": 28,
   "id": "bc7b785a",
   "metadata": {},
   "outputs": [
    {
     "name": "stdout",
     "output_type": "stream",
     "text": [
      "tensor([[[0., 3.],\n",
      "         [6., 9.]],\n",
      "\n",
      "        [[0., 3.],\n",
      "         [6., 9.]],\n",
      "\n",
      "        [[0., 3.],\n",
      "         [6., 9.]],\n",
      "\n",
      "        [[0., 3.],\n",
      "         [6., 9.]],\n",
      "\n",
      "        [[0., 3.],\n",
      "         [6., 9.]],\n",
      "\n",
      "        [[0., 3.],\n",
      "         [6., 9.]]], grad_fn=<SqueezeBackward1>)\n",
      "torch.Size([6, 2, 2])\n",
      "Parameter containing:\n",
      "tensor([[[[1.]],\n",
      "\n",
      "         [[1.]],\n",
      "\n",
      "         [[1.]]],\n",
      "\n",
      "\n",
      "        [[[1.]],\n",
      "\n",
      "         [[1.]],\n",
      "\n",
      "         [[1.]]],\n",
      "\n",
      "\n",
      "        [[[1.]],\n",
      "\n",
      "         [[1.]],\n",
      "\n",
      "         [[1.]]],\n",
      "\n",
      "\n",
      "        [[[1.]],\n",
      "\n",
      "         [[1.]],\n",
      "\n",
      "         [[1.]]],\n",
      "\n",
      "\n",
      "        [[[1.]],\n",
      "\n",
      "         [[1.]],\n",
      "\n",
      "         [[1.]]],\n",
      "\n",
      "\n",
      "        [[[1.]],\n",
      "\n",
      "         [[1.]],\n",
      "\n",
      "         [[1.]]]], requires_grad=True), torch.Size([6, 3, 1, 1])\n",
      "tensor([[[ 0., 18.],\n",
      "         [36., 54.]],\n",
      "\n",
      "        [[ 0., 18.],\n",
      "         [36., 54.]],\n",
      "\n",
      "        [[ 0., 18.],\n",
      "         [36., 54.]]], grad_fn=<SqueezeBackward1>)\n",
      "torch.Size([3, 2, 2])\n"
     ]
    }
   ],
   "source": [
    "import torch\n",
    "import torch.nn as nn\n",
    "\n",
    "set_seed()\n",
    "\n",
    "# x = torch.tensor(range(12)).float()\n",
    "# x = x.view(3, 2, 2)\n",
    "x = torch.tensor([[[ 0.,  1.],\n",
    "                   [ 2.,  3.]],\n",
    "                   [[ 0.,  1.],\n",
    "                    [ 2.,  3.]],\n",
    "                   [[ 0.,  1.],\n",
    "                    [ 2.,  3.]]])\n",
    "# x = torch.tensor([[[ 0.,  1.],\n",
    "#                    [ 2.,  3.]]\n",
    "                #    ])\n",
    "# print(x.shape)\n",
    "\n",
    "model = nn.Conv2d(3, 6, kernel_size=1)\n",
    "with torch.no_grad():\n",
    "    model.weight.fill_(1.0)\n",
    "    # model.weight[:] = torch.tensor([1.0])\n",
    "    model.bias.zero_()\n",
    "\n",
    "# print(model.parameters())\n",
    "# print(f\"{model.weight}, {model.weight.shape}\")\n",
    "output = model(x)\n",
    "print(output)\n",
    "print(output.shape)\n",
    "\n",
    "model1 = nn.Conv2d(6, 3, kernel_size=1)\n",
    "with torch.no_grad():\n",
    "    model1.weight.fill_(1.0)\n",
    "    # model.weight[:] = torch.tensor([1.0])\n",
    "    model1.bias.zero_()\n",
    "print(f\"{model.weight}, {model.weight.shape}\")\n",
    "output = model1(output)\n",
    "print(output)\n",
    "print(output.shape)\n"
   ]
  },
  {
   "cell_type": "code",
   "execution_count": 9,
   "id": "4ff3075d",
   "metadata": {},
   "outputs": [
    {
     "name": "stdout",
     "output_type": "stream",
     "text": [
      "[slice(1, 4, None), slice(1, 4, None), slice(1, 4, None)]\n",
      "(slice(1, 4, None), slice(1, 4, None), slice(1, 4, None))\n",
      "[[[31 32 33]\n",
      "  [36 37 38]\n",
      "  [41 42 43]]\n",
      "\n",
      " [[56 57 58]\n",
      "  [61 62 63]\n",
      "  [66 67 68]]\n",
      "\n",
      " [[81 82 83]\n",
      "  [86 87 88]\n",
      "  [91 92 93]]]\n"
     ]
    }
   ],
   "source": [
    "import numpy as np\n",
    "a = np.array(range(125)).reshape(5,5,5)\n",
    "# print(a)\n",
    "tp_slice=[slice(1, 4), slice(1, 4), slice(1, 4)]\n",
    "print(tp_slice)\n",
    "print(tuple(tp_slice))\n",
    "x = a[tuple(tp_slice)]\n",
    "print(x)"
   ]
  }
 ],
 "metadata": {
  "kernelspec": {
   "display_name": "Python 3 (ipykernel)",
   "language": "python",
   "name": "python3"
  }
 },
 "nbformat": 4,
 "nbformat_minor": 5
}
